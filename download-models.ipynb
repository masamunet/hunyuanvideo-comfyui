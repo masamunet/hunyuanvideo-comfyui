{
 "cells": [
  {
   "cell_type": "code",
   "execution_count": null,
   "metadata": {},
   "outputs": [],
   "source": [
    "# モデルのダウンロード\n",
    "import os\n",
    "import subprocess\n",
    "\n",
    "# Create model directories\n",
    "model_dirs = [\n",
    "    'models/clip',\n",
    "    'models/vae',\n",
    "    'models/loras', \n",
    "    'models/checkpoints',\n",
    "    'models/text_encoders',\n",
    "    'models/unet',\n",
    "    'models/controlnet',\n",
    "    'models/upscale_models',\n",
    "    'models/diffusion_models',\n",
    "    'models/LLM'\n",
    "]\n",
    "\n",
    "for dir in model_dirs:\n",
    "    os.makedirs(dir, exist_ok=True)\n",
    "\n",
    "# Download required models\n",
    "model_urls = {\n",
    "    'models/clip': [\n",
    "        'https://huggingface.co/comfyanonymous/flux_text_encoders/resolve/main/clip_l.safetensors',\n",
    "        'https://huggingface.co/comfyanonymous/flux_text_encoders/resolve/main/t5xxl_fp16.safetensors',\n",
    "        'https://huggingface.co/comfyanonymous/flux_text_encoders/resolve/main/t5xxl_fp8_e4m3fn.safetensors'\n",
    "    ],\n",
    "    'models/vae': [\n",
    "        'https://huggingface.co/Kijai/HunyuanVideo_comfy/resolve/main/hunyuan_video_vae_bf16.safetensors'\n",
    "    ],\n",
    "    'models/diffusion_models': [\n",
    "        'https://huggingface.co/Kijai/HunyuanVideo_comfy/resolve/main/hunyuan_video_720_cfgdistill_fp8_e4m3fn.safetensors'\n",
    "    ]\n",
    "}\n",
    "\n",
    "for dir, urls in model_urls.items():\n",
    "    for url in urls:\n",
    "        subprocess.run(['wget', '-nc', '-P', dir, url])\n"
   ]
  }
 ],
 "metadata": {
  "language_info": {
   "name": "python"
  }
 },
 "nbformat": 4,
 "nbformat_minor": 2
}
