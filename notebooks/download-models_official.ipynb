{
 "cells": [
  {
   "cell_type": "code",
   "execution_count": null,
   "metadata": {},
   "outputs": [],
   "source": [
    "# モデルのダウンロード\n",
    "import os\n",
    "import subprocess\n",
    "\n",
    "# Create model directories\n",
    "model_dirs = [\n",
    "    '/workspace/ComfyUI/models/clip',\n",
    "    '/workspace/ComfyUI/models/vae',\n",
    "    '/workspace/ComfyUI/models/loras', \n",
    "    '/workspace/ComfyUI/models/checkpoints',\n",
    "    '/workspace/ComfyUI/models/text_encoders',\n",
    "    '/workspace/ComfyUI/models/unet',\n",
    "    '/workspace/ComfyUI/models/controlnet',\n",
    "    '/workspace/ComfyUI/models/upscale_models',\n",
    "    '/workspace/ComfyUI/models/diffusion_models',\n",
    "    '/workspace/ComfyUI/models/LLM'\n",
    "]\n",
    "\n",
    "for dir in model_dirs:\n",
    "    os.makedirs(dir, exist_ok=True)\n",
    "\n",
    "# Download required models\n",
    "model_urls = {\n",
    "    '/workspace/ComfyUI/models/vae': [\n",
    "        'https://huggingface.co/Comfy-Org/HunyuanVideo_repackaged/resolve/main/split_files/vae/hunyuan_video_vae_bf16.safetensors',\n",
    "    ],\n",
    "    '/workspace/ComfyUI/models/diffusion_models': [\n",
    "        'https://huggingface.co/Comfy-Org/HunyuanVideo_repackaged/resolve/main/split_files/diffusion_models/hunyuan_video_t2v_720p_bf16.safetensors',\n",
    "        # 'https://huggingface.co/tencent/HunyuanVideo/resolve/main/hunyuan-video-t2v-720p/transformers/mp_rank_00_model_states_fp8.pt',\n",
    "        # GGUFモデル\n",
    "        # 'https://huggingface.co/city96/HunyuanVideo-gguf/resolve/main/hunyuan-video-t2v-720p-Q8_0.gguf',\n",
    "        # 'https://huggingface.co/city96/HunyuanVideo-gguf/resolve/main/hunyuan-video-t2v-720p-Q5_K_M.gguf',\n",
    "        # 'https://huggingface.co/city96/HunyuanVideo-gguf/resolve/main/hunyuan-video-t2v-720p-Q5_K_S.gguf',\n",
    "        'https://huggingface.co/city96/HunyuanVideo-gguf/resolve/main/hunyuan-video-t2v-720p-Q4_K_M.gguf',\n",
    "        # 'https://huggingface.co/city96/HunyuanVideo-gguf/resolve/main/hunyuan-video-t2v-720p-Q4_K_S.gguf',\n",
    "\n",
    "\n",
    "    ],\n",
    "    '/workspace/ComfyUI/models/text_encoders': [\n",
    "        'https://huggingface.co/Comfy-Org/HunyuanVideo_repackaged/resolve/main/split_files/text_encoders/clip_l.safetensors',\n",
    "        'https://huggingface.co/Comfy-Org/HunyuanVideo_repackaged/resolve/main/split_files/text_encoders/llava_llama3_fp8_scaled.safetensors',\n",
    "    ],\n",
    "}\n",
    "\n",
    "for dir, urls in model_urls.items():\n",
    "    for url in urls:\n",
    "        subprocess.run(['wget', '--progress=bar:force:noscroll', '-nc', '-P', dir, url])\n",
    "\n"
   ]
  }
 ],
 "metadata": {
  "language_info": {
   "name": "python"
  }
 },
 "nbformat": 4,
 "nbformat_minor": 2
}
