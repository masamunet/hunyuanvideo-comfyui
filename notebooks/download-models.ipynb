{
 "cells": [
  {
   "cell_type": "code",
   "execution_count": null,
   "metadata": {},
   "outputs": [],
   "source": [
    "# モデルのダウンロード\n",
    "import os\n",
    "import subprocess\n",
    "\n",
    "# Create model directories\n",
    "model_dirs = [\n",
    "    '/workspace/ComfyUI/models/clip',\n",
    "    '/workspace/ComfyUI/models/vae',\n",
    "    '/workspace/ComfyUI/models/loras', \n",
    "    '/workspace/ComfyUI/models/checkpoints',\n",
    "    '/workspace/ComfyUI/models/text_encoders',\n",
    "    '/workspace/ComfyUI/models/unet',\n",
    "    '/workspace/ComfyUI/models/controlnet',\n",
    "    '/workspace/ComfyUI/models/upscale_models',\n",
    "    '/workspace/ComfyUI/models/diffusion_models',\n",
    "    '/workspace/ComfyUI/models/LLM'\n",
    "]\n",
    "\n",
    "for dir in model_dirs:\n",
    "    os.makedirs(dir, exist_ok=True)\n",
    "\n",
    "# Download required models\n",
    "model_urls = {\n",
    "    '/workspace/ComfyUI/models/clip': [\n",
    "        'https://huggingface.co/comfyanonymous/flux_text_encoders/resolve/main/clip_l.safetensors',\n",
    "        'https://huggingface.co/comfyanonymous/flux_text_encoders/resolve/main/t5xxl_fp16.safetensors',\n",
    "        'https://huggingface.co/comfyanonymous/flux_text_encoders/resolve/main/t5xxl_fp8_e4m3fn.safetensors'\n",
    "    ],\n",
    "    '/workspace/ComfyUI/models/vae': [\n",
    "        'https://huggingface.co/Kijai/HunyuanVideo_comfy/resolve/main/hunyuan_video_vae_bf16.safetensors'\n",
    "    ],\n",
    "    '/workspace/ComfyUI/models/diffusion_models': [\n",
    "        'https://huggingface.co/Kijai/HunyuanVideo_comfy/resolve/main/hunyuan_video_720_cfgdistill_fp8_e4m3fn.safetensors'\n",
    "    ]\n",
    "}\n",
    "\n",
    "for dir, urls in model_urls.items():\n",
    "    for url in urls:\n",
    "        subprocess.run(['wget', '--progress=bar:force:noscroll', '-nc', '-P', dir, url])\n",
    "\n",
    "# 自動ダウンロード可能なモデルをあらかじめダウンロードしておく\n",
    "%cd /workspace/ComfyUI/models/clip\n",
    "!git clone https://huggingface.co/openai/clip-vit-large-patch14\n",
    "%cd /workspace/ComfyUI/models/LLM\n",
    "!git clone https://huggingface.co/Kijai/llava-llama-3-8b-text-encoder-tokenizer\n"
   ]
  }
 ],
 "metadata": {
  "language_info": {
   "name": "python"
  }
 },
 "nbformat": 4,
 "nbformat_minor": 2
}
