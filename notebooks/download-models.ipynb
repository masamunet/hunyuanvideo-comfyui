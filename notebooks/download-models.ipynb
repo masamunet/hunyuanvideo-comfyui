{
 "cells": [
  {
   "cell_type": "code",
   "execution_count": null,
   "metadata": {},
   "outputs": [],
   "source": [
    "# モデルのダウンロード\n",
    "import os\n",
    "import subprocess\n",
    "\n",
    "# Create model directories\n",
    "model_dirs = [\n",
    "    '/workspace/ComfyUI/models/clip',\n",
    "    '/workspace/ComfyUI/models/vae',\n",
    "    '/workspace/ComfyUI/models/loras', \n",
    "    '/workspace/ComfyUI/models/checkpoints',\n",
    "    '/workspace/ComfyUI/models/text_encoders',\n",
    "    '/workspace/ComfyUI/models/unet',\n",
    "    '/workspace/ComfyUI/models/controlnet',\n",
    "    '/workspace/ComfyUI/models/upscale_models',\n",
    "    '/workspace/ComfyUI/models/diffusion_models',\n",
    "    '/workspace/ComfyUI/models/LLM'\n",
    "]\n",
    "\n",
    "for dir in model_dirs:\n",
    "    os.makedirs(dir, exist_ok=True)\n",
    "\n",
    "# Download required models\n",
    "model_urls = {\n",
    "    '/workspace/ComfyUI/models/clip': [\n",
    "        'https://huggingface.co/comfyanonymous/flux_text_encoders/resolve/main/clip_l.safetensors',\n",
    "        'https://huggingface.co/comfyanonymous/flux_text_encoders/resolve/main/t5xxl_fp16.safetensors',\n",
    "        'https://huggingface.co/comfyanonymous/flux_text_encoders/resolve/main/t5xxl_fp8_e4m3fn.safetensors'\n",
    "    ],\n",
    "    '/workspace/ComfyUI/models/vae': [\n",
    "        'https://huggingface.co/Kijai/HunyuanVideo_comfy/resolve/main/hunyuan_video_vae_bf16.safetensors'\n",
    "    ],\n",
    "    '/workspace/ComfyUI/models/diffusion_models': [\n",
    "        'https://huggingface.co/Kijai/HunyuanVideo_comfy/resolve/main/hunyuan_video_720_cfgdistill_fp8_e4m3fn.safetensors'\n",
    "    ]\n",
    "}\n",
    "\n",
    "for dir, urls in model_urls.items():\n",
    "    for url in urls:\n",
    "        subprocess.run(['wget', '--progress=bar:force:noscroll', '-nc', '-P', dir, url])\n",
    "\n",
    "# %cd /workspace/ComfyUI/models/clip\n",
    "# !git lfs clone https://huggingface.co/openai/clip-vit-large-patch14\n",
    "# %cd /workspace/ComfyUI/models/LLM\n",
    "# !git lfs clone https://huggingface.co/Kijai/llava-llama-3-8b-text-encoder-tokenizer\n"
   ]
  },
  {
   "cell_type": "code",
   "execution_count": null,
   "metadata": {},
   "outputs": [],
   "source": [
    "\n",
    "# SageAttention2のセットアップ\n",
    "# SageAttention2は手動でインストールする必要がある\n",
    "!pip uninstall -y sageattention # 既存のsageattentionをアンインストール\n",
    "!git clone https://github.com/thu-ml/SageAttention.git\n",
    "%cd SageAttention\n",
    "!python3 setup.py install"
   ]
  }
 ],
 "metadata": {
  "language_info": {
   "name": "python"
  }
 },
 "nbformat": 4,
 "nbformat_minor": 2
}
