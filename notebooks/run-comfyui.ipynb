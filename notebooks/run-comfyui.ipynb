{
 "cells": [
  {
   "cell_type": "code",
   "execution_count": null,
   "metadata": {},
   "outputs": [],
   "source": [
    "# ComfyUIを起動\n",
    "\n",
    "def start_comfyui():\n",
    "    import subprocess\n",
    "    import threading\n",
    "    \n",
    "    def run_server():\n",
    "        subprocess.run([\"python3\", \"/workspace/ComfyUI/main.py\", \"--listen\"], \n",
    "                      stdout=subprocess.PIPE, \n",
    "                      stderr=subprocess.PIPE)\n",
    "    \n",
    "    thread = threading.Thread(target=run_server)\n",
    "    thread.daemon = True\n",
    "    thread.start()\n",
    "    \n",
    "    print(\"ComfyUI server starting at http://localhost:8188\")\n",
    "\n",
    "# ComfyUIを起動するセル\n",
    "start_comfyui()"
   ]
  }
 ],
 "metadata": {
  "language_info": {
   "name": "python"
  }
 },
 "nbformat": 4,
 "nbformat_minor": 2
}
